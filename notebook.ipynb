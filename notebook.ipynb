{
 "cells": [
  {
   "cell_type": "markdown",
   "metadata": {
    "dc": {
     "key": "4"
    },
    "deletable": false,
    "editable": false,
    "run_control": {
     "frozen": true
    },
    "tags": [
     "context"
    ]
   },
   "source": [
    "## 1. Inspecting the data\n",
    "<p><img src=\"https://assets.datacamp.com/production/project_1416/img/schoolbus.jpg\" alt=\"New York City schoolbus\" height=\"300px\" width=\"300px\"></p>\n",
    "<p>Photo by <a href=\"https://unsplash.com/@jannis_lucas\">Jannis Lucas</a> on <a href=\"https://unsplash.com\">Unsplash</a>.\n",
    "<br></p>\n",
    "<p>Every year, American high school students take SATs, which are standardized tests intended to measure literacy, numeracy, and writing skills. There are three sections - reading, math, and writing, each with a maximum score of 800 points. These tests are extremely important for students and colleges, as they play a pivotal role in the admissions process.</p>\n",
    "<p>Analyzing the performance of schools is important for a variety of stakeholders, including policy and education professionals, researchers, government, and even parents considering which school their children should attend. </p>\n",
    "<p>In this notebook, we will take a look at data on SATs across public schools in New York City. Our database contains a single table:</p>\n",
    "<h1 id=\"schools\"><code>schools</code></h1>\n",
    "<table>\n",
    "<thead>\n",
    "<tr>\n",
    "<th>column</th>\n",
    "<th>type</th>\n",
    "<th>description</th>\n",
    "</tr>\n",
    "</thead>\n",
    "<tbody>\n",
    "<tr>\n",
    "<td><code>school_name</code></td>\n",
    "<td><code>varchar</code></td>\n",
    "<td>Name of school</td>\n",
    "</tr>\n",
    "<tr>\n",
    "<td><code>borough</code></td>\n",
    "<td><code>varchar</code></td>\n",
    "<td>Borough that the school is located in</td>\n",
    "</tr>\n",
    "<tr>\n",
    "<td><code>building_code</code></td>\n",
    "<td><code>varchar</code></td>\n",
    "<td>Code for the building</td>\n",
    "</tr>\n",
    "<tr>\n",
    "<td><code>average_math</code></td>\n",
    "<td><code>int</code></td>\n",
    "<td>Average math score for SATs</td>\n",
    "</tr>\n",
    "<tr>\n",
    "<td><code>average_reading</code></td>\n",
    "<td><code>int</code></td>\n",
    "<td>Average reading score for SATs</td>\n",
    "</tr>\n",
    "<tr>\n",
    "<td><code>average_writing</code></td>\n",
    "<td><code>int</code></td>\n",
    "<td>Average writing score for SATs</td>\n",
    "</tr>\n",
    "<tr>\n",
    "<td><code>percent_tested</code></td>\n",
    "<td><code>numeric</code></td>\n",
    "<td>Percentage of students completing SATs</td>\n",
    "</tr>\n",
    "</tbody>\n",
    "</table>\n",
    "<p>Let's familiarize ourselves with the data by taking a looking at the first few schools!</p>"
   ]
  },
  {
   "cell_type": "code",
   "execution_count": 3,
   "metadata": {
    "dc": {
     "key": "4"
    },
    "tags": [
     "sample_code"
    ]
   },
   "outputs": [
    {
     "ename": "SyntaxError",
     "evalue": "invalid syntax (3846292218.py, line 1)",
     "output_type": "error",
     "traceback": [
      "\u001b[1;36m  Cell \u001b[1;32mIn[3], line 1\u001b[1;36m\u001b[0m\n\u001b[1;33m    SELECT *\u001b[0m\n\u001b[1;37m            ^\u001b[0m\n\u001b[1;31mSyntaxError\u001b[0m\u001b[1;31m:\u001b[0m invalid syntax\n"
     ]
    }
   ],
   "source": [
    "\n",
    "    \n",
    "SELECT *\n",
    "FROM schools\n",
    "LIMIT 10;\n"
   ]
  },
  {
   "cell_type": "markdown",
   "metadata": {
    "dc": {
     "key": "11"
    },
    "deletable": false,
    "editable": false,
    "run_control": {
     "frozen": true
    },
    "tags": [
     "context"
    ]
   },
   "source": [
    "## 2. Finding missing values\n",
    "<p>It looks like the first school in our database had no data in the <code>percent_tested</code> column! </p>\n",
    "<p>Let's identify how many schools have missing data for this column, indicating schools that did not report the percentage of students tested. </p>\n",
    "<p>To understand whether this missing data problem is widespread in New York, we will also calculate the total number of schools in the database.</p>"
   ]
  },
  {
   "cell_type": "code",
   "execution_count": null,
   "metadata": {
    "dc": {
     "key": "11"
    },
    "tags": [
     "sample_code"
    ]
   },
   "outputs": [],
   "source": [
    "%%sql\n",
    "\n",
    "SELECT (COUNT(*)- COUNT(percent_tested)) AS num_tested_missing,COUNT(school_name) AS num_schools\n",
    "FROM schools;"
   ]
  },
  {
   "cell_type": "markdown",
   "metadata": {
    "dc": {
     "key": "18"
    },
    "deletable": false,
    "editable": false,
    "run_control": {
     "frozen": true
    },
    "tags": [
     "context"
    ]
   },
   "source": [
    "## 3. Schools by building code\n",
    "<p>There are 20 schools with missing data for <code>percent_tested</code>, which only makes up 5% of all rows in the database.</p>\n",
    "<p>Now let's turn our attention to how many schools there are. When we displayed the first ten rows of the database, several had the same value in the <code>building_code</code> column, suggesting there are multiple schools based in the same location. Let's find out how many unique school locations exist in our database. </p>"
   ]
  },
  {
   "cell_type": "code",
   "execution_count": null,
   "metadata": {
    "dc": {
     "key": "18"
    },
    "tags": [
     "sample_code"
    ]
   },
   "outputs": [],
   "source": [
    "%%sql\n",
    "SELECT COUNT(DISTINCT building_code) AS num_school_buildings\n",
    "FROM schools;\n"
   ]
  },
  {
   "cell_type": "markdown",
   "metadata": {
    "dc": {
     "key": "25"
    },
    "deletable": false,
    "editable": false,
    "run_control": {
     "frozen": true
    },
    "tags": [
     "context"
    ]
   },
   "source": [
    "## 4. Best schools for math\n",
    "<p>Out of 375 schools, only 233 (62%) have a unique <code>building_code</code>! </p>\n",
    "<p>Now let's start our analysis of school performance. As each school reports individually, we will treat them this way rather than grouping them by <code>building_code</code>. </p>\n",
    "<p>First, let's find all schools with an average math score of at least 80% (out of 800). </p>"
   ]
  },
  {
   "cell_type": "code",
   "execution_count": null,
   "metadata": {
    "dc": {
     "key": "25"
    },
    "tags": [
     "sample_code"
    ]
   },
   "outputs": [],
   "source": [
    "%%sql\n",
    "\n",
    "SELECT school_name,average_math\n",
    "FROM schools\n",
    "WHERE average_math>=640\n",
    "ORDER BY average_math DESC;\n"
   ]
  },
  {
   "cell_type": "markdown",
   "metadata": {
    "dc": {
     "key": "32"
    },
    "deletable": false,
    "editable": false,
    "run_control": {
     "frozen": true
    },
    "tags": [
     "context"
    ]
   },
   "source": [
    "## 5. Lowest reading score\n",
    "<p>Wow, there are only ten public schools in New York City with an average math score of at least 640!</p>\n",
    "<p>Now let's look at the other end of the spectrum and find the single lowest score for reading. We will only select the score, not the school, to avoid naming and shaming!</p>"
   ]
  },
  {
   "cell_type": "code",
   "execution_count": null,
   "metadata": {
    "dc": {
     "key": "32"
    },
    "tags": [
     "sample_code"
    ]
   },
   "outputs": [],
   "source": [
    "%%sql\n",
    "\n",
    "SELECT MIN(average_reading) AS lowest_reading\n",
    "FROM schools;\n"
   ]
  },
  {
   "cell_type": "markdown",
   "metadata": {
    "dc": {
     "key": "39"
    },
    "deletable": false,
    "editable": false,
    "run_control": {
     "frozen": true
    },
    "tags": [
     "context"
    ]
   },
   "source": [
    "## 6. Best writing school\n",
    "<p>The lowest average score for reading across schools in New York City is less than 40% of the total available points! </p>\n",
    "<p>Now let's find the school with the highest average writing score.</p>"
   ]
  },
  {
   "cell_type": "code",
   "execution_count": null,
   "metadata": {
    "dc": {
     "key": "39"
    },
    "tags": [
     "sample_code"
    ]
   },
   "outputs": [],
   "source": [
    "%%sql\n",
    "\n",
    "SELECT school_name, MAX(average_writing) AS max_writing\n",
    "FROM schools\n",
    "GROUP BY school_name\n",
    "ORDER BY max_writing DESC\n",
    "LIMIT 1;\n"
   ]
  },
  {
   "cell_type": "markdown",
   "metadata": {
    "dc": {
     "key": "46"
    },
    "deletable": false,
    "editable": false,
    "run_control": {
     "frozen": true
    },
    "tags": [
     "context"
    ]
   },
   "source": [
    "## 7. Top 10 schools\n",
    "<p>An average writing score of 693 is pretty impressive! </p>\n",
    "<p>This top writing score was at the same school that got the top math score, Stuyvesant High School. Stuyvesant is widely known as a perennial top school in New York. </p>\n",
    "<p>What other schools are also excellent across the board? Let's look at scores across reading, writing, and math to find out.</p>"
   ]
  },
  {
   "cell_type": "code",
   "execution_count": null,
   "metadata": {
    "dc": {
     "key": "46"
    },
    "tags": [
     "sample_code"
    ]
   },
   "outputs": [],
   "source": [
    "%%sql\n",
    "SELECT school_name, SUM(average_math + average_reading + average_writing) as average_sat\n",
    "FROM schools\n",
    "GROUP BY school_name\n",
    "ORDER BY average_sat DESC\n",
    "LIMIT 10;"
   ]
  },
  {
   "cell_type": "markdown",
   "metadata": {
    "dc": {
     "key": "53"
    },
    "deletable": false,
    "editable": false,
    "run_control": {
     "frozen": true
    },
    "tags": [
     "context"
    ]
   },
   "source": [
    "## 8. Ranking boroughs\n",
    "<p>There are four schools with average SAT scores of over 2000! Now let's analyze performance by New York City borough. </p>\n",
    "<p>We will build a query that calculates the number of schools and the average SAT score per borough!</p>"
   ]
  },
  {
   "cell_type": "code",
   "execution_count": null,
   "metadata": {
    "dc": {
     "key": "53"
    },
    "tags": [
     "sample_code"
    ]
   },
   "outputs": [],
   "source": [
    "%%sql\n",
    "\n",
    "SELECT borough,COUNT(school_name) AS num_schools,SUM(average_math+average_reading+average_writing)/COUNT(school_name) AS average_borough_sat\n",
    "FROM schools\n",
    "GROUP BY borough\n",
    "ORDER BY average_borough_sat DESC;\n"
   ]
  },
  {
   "cell_type": "markdown",
   "metadata": {
    "dc": {
     "key": "60"
    },
    "deletable": false,
    "editable": false,
    "run_control": {
     "frozen": true
    },
    "tags": [
     "context"
    ]
   },
   "source": [
    "## 9. Brooklyn numbers\n",
    "<p>It appears that schools in Staten Island, on average, produce higher scores across all three categories. However, there are only 10 schools in Staten Island, compared to an average of 91 schools in the other four boroughs!</p>\n",
    "<p>For our final query of the database, let's focus on Brooklyn, which has 109 schools. We wish to find the top five schools for math performance.</p>"
   ]
  },
  {
   "cell_type": "code",
   "execution_count": null,
   "metadata": {
    "dc": {
     "key": "60"
    },
    "tags": [
     "sample_code"
    ]
   },
   "outputs": [],
   "source": [
    "%%sql\n",
    "\n",
    "SELECT school_name,average_math\n",
    "FROM schools\n",
    "WHERE borough='Brooklyn'\n",
    "GROUP BY school_name\n",
    "ORDER BY average_math DESC\n",
    "LIMIT 5;\n"
   ]
  }
 ],
 "metadata": {
  "kernelspec": {
   "display_name": "Python 3 (ipykernel)",
   "language": "python",
   "name": "python3"
  },
  "language_info": {
   "codemirror_mode": {
    "name": "ipython",
    "version": 3
   },
   "file_extension": ".py",
   "mimetype": "text/x-python",
   "name": "python",
   "nbconvert_exporter": "python",
   "pygments_lexer": "ipython3",
   "version": "3.10.6"
  }
 },
 "nbformat": 4,
 "nbformat_minor": 4
}
